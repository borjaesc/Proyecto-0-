{
 "cells": [
  {
   "cell_type": "markdown",
   "metadata": {},
   "source": [
    "<div style=\"text-align: center;\">\n",
    "  <img src=\"https://github.com/Hack-io-Data/Imagenes/blob/main/01-LogosHackio/logo_celeste@4x.png?raw=true\" alt=\"logo hack(io)\" />\n",
    "</div>"
   ]
  },
  {
   "cell_type": "markdown",
   "metadata": {},
   "source": [
    "#### 1. Escribe un programa que determine si un número es par o impar.\n",
    "\n"
   ]
  },
  {
   "cell_type": "code",
   "execution_count": 3,
   "metadata": {},
   "outputs": [
    {
     "name": "stdout",
     "output_type": "stream",
     "text": [
      "El número es par\n"
     ]
    }
   ],
   "source": [
    "numero = int(input(\"Ingres un numero: \"))\n",
    "if numero % 2 == 0:\n",
    "    print(\"El número es par\")\n",
    "else:\n",
    "    print(\"El numero es impar\")"
   ]
  },
  {
   "cell_type": "markdown",
   "metadata": {},
   "source": [
    "#### 2. Genera un programa que nos diga si es de noche, de día o tarde según la hora proporcionada por el usuario."
   ]
  },
  {
   "cell_type": "code",
   "execution_count": 7,
   "metadata": {},
   "outputs": [
    {
     "name": "stdout",
     "output_type": "stream",
     "text": [
      "Es de noche\n"
     ]
    }
   ],
   "source": [
    "hora = int(input(\"Ingresa la hora en formato 24 horas (0-23):\"))\n",
    "if 0<= hora < 6:\n",
    "    print(\"Es de noche\")\n",
    "elif 6<= hora < 12 :\n",
    "    print(\"Es de día\")\n",
    "elif 12<= hora < 18:\n",
    "    print(\"Es de tarde\")\n",
    "else:\n",
    "    print(\"Es de noche\")"
   ]
  },
  {
   "cell_type": "markdown",
   "metadata": {},
   "source": [
    "#### 3. Dado un nombre imprime un saludo personalizado."
   ]
  },
  {
   "cell_type": "code",
   "execution_count": 8,
   "metadata": {},
   "outputs": [
    {
     "name": "stdout",
     "output_type": "stream",
     "text": [
      "Hola Borja , bienvenido a Python\n"
     ]
    }
   ],
   "source": [
    "nombre = input(\"Ingresa tu nombre\")\n",
    "print(f\"Hola {nombre} , bienvenido a Python\")"
   ]
  },
  {
   "cell_type": "markdown",
   "metadata": {},
   "source": [
    "#### 4. Escribe un programa que determine qué calificación en texto tiene un alumno en base a su calificación numérica. Las reglas de calificación son: \n",
    "\n",
    "- 0 - 69 insuficiente\n",
    "\n",
    "- 70 - 79 bien\n",
    "\n",
    "- 80 - 89 muy bien\n",
    "\n",
    "- 90 - 100 excelente\n"
   ]
  },
  {
   "cell_type": "code",
   "execution_count": 10,
   "metadata": {},
   "outputs": [
    {
     "name": "stdout",
     "output_type": "stream",
     "text": [
      "Bien\n"
     ]
    }
   ],
   "source": [
    "calificacion = int(input(\"Ingresa la calificacion (0-100):\"))\n",
    "if 0 <= calificacion <= 69:\n",
    "    print(\"Insuficiente\")\n",
    "elif 70 <= calificacion <=79:\n",
    "    print(\"Bien\")\n",
    "elif 80 <= calificacion <=89:\n",
    "    print(\"Muy bien\")\n",
    "elif 90 <= calificacion <100:\n",
    "    print(\"Excelente\")\n",
    "else:\n",
    "    print(\"Calificacion fuera de rango numerico\")"
   ]
  },
  {
   "cell_type": "markdown",
   "metadata": {},
   "source": [
    "#### 5. Escribe un programa que imprima el día de la semana, dado un número del 1 al 7.\n"
   ]
  },
  {
   "cell_type": "code",
   "execution_count": 17,
   "metadata": {},
   "outputs": [
    {
     "name": "stdout",
     "output_type": "stream",
     "text": [
      "Domingo\n"
     ]
    }
   ],
   "source": [
    "dia_semana = int(input(\"Ingresa un numero del 1 al 7 \"))\n",
    "if dia_semana == 1:\n",
    "    print(\"Lunes\")\n",
    "elif dia_semana == 2:\n",
    "    print(\"Martes\")\n",
    "elif dia_semana == 3:\n",
    "    print(\"Miercoles\")\n",
    "elif dia_semana ==4:\n",
    "    print(\"Jueves\")\n",
    "elif dia_semana ==5:\n",
    "    print(\"Viernes\")\n",
    "elif dia_semana ==6:\n",
    "    print(\"Sabado\")\n",
    "elif dia_semana ==7:\n",
    "    print(\"Domingo\")\n",
    "else:\n",
    "    print(\"Nnumero no valido. Debe ser un numero entre 1 y 7\")    \n"
   ]
  },
  {
   "cell_type": "markdown",
   "metadata": {},
   "source": [
    "#### 6. Escribe un programa que determine si un número es positivo, negativo o cero."
   ]
  },
  {
   "cell_type": "code",
   "execution_count": 22,
   "metadata": {},
   "outputs": [
    {
     "name": "stdout",
     "output_type": "stream",
     "text": [
      "el numero es 0\n"
     ]
    }
   ],
   "source": [
    "numero = float(input(\"Ingresa un numero:\"))\n",
    "\n",
    "if numero > 0 :\n",
    "    print(\"el numero es positivo\")\n",
    "elif numero < 0:\n",
    "    print(\"el numero es negativo\")\n",
    "else:\n",
    "    print(\"el numero es 0\")"
   ]
  },
  {
   "cell_type": "markdown",
   "metadata": {},
   "source": [
    "#### 7. Escribe un programa que determine si una persona puede conducir o no. La edad mínima para conducir es 18 años. \n"
   ]
  },
  {
   "cell_type": "code",
   "execution_count": 26,
   "metadata": {},
   "outputs": [
    {
     "name": "stdout",
     "output_type": "stream",
     "text": [
      "No puede conducir, debe tener al menos 18 años\n"
     ]
    }
   ],
   "source": [
    "edad = int(input(\"Ingresa tu edad:\"))\n",
    "if edad >=18:\n",
    "    print(\"Puede conducir\")\n",
    "else:\n",
    "    print(\"No puede conducir, debe tener al menos 18 años\")"
   ]
  },
  {
   "cell_type": "markdown",
   "metadata": {},
   "source": [
    "#### 8. Escribe un programa que determine si un estudiante aprobó o suspendió un examen."
   ]
  },
  {
   "cell_type": "code",
   "execution_count": 33,
   "metadata": {},
   "outputs": [
    {
     "name": "stdout",
     "output_type": "stream",
     "text": [
      "Aprobado\n"
     ]
    }
   ],
   "source": [
    "nota = float(input(\"Ingresa tu nota (0-10)\"))\n",
    "if nota >=5:\n",
    "    print(\"Aprobado\")\n",
    "else:\n",
    "    print(\"Suspenso\")"
   ]
  },
  {
   "cell_type": "markdown",
   "metadata": {},
   "source": [
    "#### 9. Escribe un programa que determine si un número es múltiplo de 3 y 5.\n"
   ]
  },
  {
   "cell_type": "code",
   "execution_count": 34,
   "metadata": {},
   "outputs": [
    {
     "name": "stdout",
     "output_type": "stream",
     "text": [
      "15 es multiplo de 3 y 5\n"
     ]
    }
   ],
   "source": [
    "numero = int(input(\"Ingresa un numero:\"))\n",
    "if numero % 3 == 0 and numero % 5 == 0:\n",
    "    print(f\"{numero} es multiplo de 3 y 5\")\n",
    "else:\n",
    "    print(f\"{numero} no es multiplo de 3 y 5\")"
   ]
  },
  {
   "cell_type": "markdown",
   "metadata": {},
   "source": [
    "#### 10. Escribe un programa que determine si un número es par o impar.\n"
   ]
  },
  {
   "cell_type": "code",
   "execution_count": 39,
   "metadata": {},
   "outputs": [
    {
     "name": "stdout",
     "output_type": "stream",
     "text": [
      "6890 es un numero par\n"
     ]
    }
   ],
   "source": [
    "numero = int(input(\"Ingresa un numero:\"))\n",
    "if numero % 2 == 0:\n",
    "    print(f\"{numero} es un numero par\")\n",
    "else:\n",
    "    print(f\"{numero} es un numero impar\")"
   ]
  }
 ],
 "metadata": {
  "kernelspec": {
   "display_name": "hackio",
   "language": "python",
   "name": "python3"
  },
  "language_info": {
   "codemirror_mode": {
    "name": "ipython",
    "version": 3
   },
   "file_extension": ".py",
   "mimetype": "text/x-python",
   "name": "python",
   "nbconvert_exporter": "python",
   "pygments_lexer": "ipython3",
   "version": "3.9.6"
  }
 },
 "nbformat": 4,
 "nbformat_minor": 2
}
