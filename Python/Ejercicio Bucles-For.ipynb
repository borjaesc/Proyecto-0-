{
 "cells": [
  {
   "cell_type": "markdown",
   "metadata": {},
   "source": [
    "<div style=\"text-align: center;\">\n",
    "  <img src=\"https://github.com/Hack-io-Data/Imagenes/blob/main/01-LogosHackio/logo_celeste@4x.png?raw=true\" alt=\"logo hack(io)\" />\n",
    "</div>"
   ]
  },
  {
   "cell_type": "markdown",
   "metadata": {},
   "source": [
    "####  1. Genera una lista de números del 0 al 4 y luego imprime cada número en la lista usando un `bucle for`. "
   ]
  },
  {
   "cell_type": "code",
   "execution_count": 2,
   "metadata": {},
   "outputs": [
    {
     "name": "stdout",
     "output_type": "stream",
     "text": [
      "0\n",
      "1\n",
      "2\n",
      "3\n",
      "4\n"
     ]
    }
   ],
   "source": [
    "lista_numeros = [0,1,2,3,4]\n",
    "for numero in lista_numeros:\n",
    "    print(numero)"
   ]
  },
  {
   "cell_type": "markdown",
   "metadata": {},
   "source": [
    "#### 2. Itera sobre una lista de frutas y muestra cada fruta en mayúsculas. \n"
   ]
  },
  {
   "cell_type": "code",
   "execution_count": 13,
   "metadata": {},
   "outputs": [
    {
     "name": "stdout",
     "output_type": "stream",
     "text": [
      "Estoy iterando por MANZANA\n",
      "Estoy iterando por PERA\n",
      "Estoy iterando por SANDIA\n",
      "Estoy iterando por PLATANO\n",
      "Aqui acaba el bucle for\n"
     ]
    }
   ],
   "source": [
    "lista_frutas = [\"manzana\",\"pera\",\"sandia\",\"platano\"]\n",
    "for fruta in lista_frutas:\n",
    "    print(f\"Estoy iterando por {fruta.upper()}\")\n",
    "    \n",
    "\n",
    "print(f\"Aqui acaba el bucle for\")\n"
   ]
  },
  {
   "cell_type": "markdown",
   "metadata": {},
   "source": [
    "####  3. Genera un bucle while que imprima los números del 0 al 4. \n"
   ]
  },
  {
   "cell_type": "code",
   "execution_count": 14,
   "metadata": {},
   "outputs": [
    {
     "name": "stdout",
     "output_type": "stream",
     "text": [
      "0\n",
      "1\n",
      "2\n",
      "3\n",
      "4\n"
     ]
    }
   ],
   "source": [
    "numero = 0 \n",
    "while numero <= 4:\n",
    "    print(numero)\n",
    "    numero +=1"
   ]
  },
  {
   "cell_type": "markdown",
   "metadata": {},
   "source": [
    "#### 4. Genera un bucle del 0 al 9, pero que se detenga en el 5.\n"
   ]
  },
  {
   "cell_type": "code",
   "execution_count": 24,
   "metadata": {},
   "outputs": [
    {
     "name": "stdout",
     "output_type": "stream",
     "text": [
      "0\n",
      "1\n",
      "2\n",
      "3\n",
      "4\n"
     ]
    }
   ],
   "source": [
    "for numero in range (10):\n",
    "    if numero == 5:\n",
    "        break\n",
    "    print(numero)"
   ]
  },
  {
   "cell_type": "markdown",
   "metadata": {},
   "source": [
    "#### 5. Recorre los números del 0 al 9 e imprime solo los números impares."
   ]
  },
  {
   "cell_type": "code",
   "execution_count": 26,
   "metadata": {},
   "outputs": [
    {
     "name": "stdout",
     "output_type": "stream",
     "text": [
      "1\n",
      "3\n",
      "5\n",
      "7\n",
      "9\n"
     ]
    }
   ],
   "source": [
    "for numero in range(10):\n",
    "    if numero % 2 == 1 :\n",
    "        print(numero)"
   ]
  },
  {
   "cell_type": "markdown",
   "metadata": {},
   "source": [
    "#### 6. Dada la lista `[10, 20, 30, 40, 50]`, calcula la suma de todos los elementos usando un bucle `for`."
   ]
  },
  {
   "cell_type": "code",
   "execution_count": 48,
   "metadata": {},
   "outputs": [
    {
     "name": "stdout",
     "output_type": "stream",
     "text": [
      "La suma total es: 150\n"
     ]
    }
   ],
   "source": [
    "numeros = [10, 20, 30, 40, 50]\n",
    "suma_total = 0\n",
    "\n",
    "for num in numeros:\n",
    "    suma_total += num\n",
    "    \n",
    "print(f\"La suma total es: {suma_total}\")"
   ]
  },
  {
   "cell_type": "markdown",
   "metadata": {},
   "source": [
    "#### 7. Dada la cadena `\"Hola mundo\"`, cuenta cuántas veces aparecen las vocales (`a`, `e`, `i`, `o`, `u`) usando un bucle `for`.\n"
   ]
  },
  {
   "cell_type": "code",
   "execution_count": 51,
   "metadata": {},
   "outputs": [
    {
     "name": "stdout",
     "output_type": "stream",
     "text": [
      "El numero de apareciones es 4\n"
     ]
    }
   ],
   "source": [
    "cadena = \"Hola mundo\"\n",
    "contador_vocales = 0\n",
    "\n",
    "for caracter in cadena:\n",
    "    if caracter.lower() in (\"a\",\"e\",\"i\",\"o\",\"u\"):\n",
    "        contador_vocales += 1\n",
    "\n",
    "        \n",
    "print(f\"El numero de apareciones es {contador_vocales}\")"
   ]
  },
  {
   "cell_type": "markdown",
   "metadata": {},
   "source": [
    "#### 8. Dada la cadena `\"Python\"`, usa un bucle `for` para imprimir los caracteres en orden inverso (`n`, `o`, `h`, `t`, `y`, `P`).\n"
   ]
  },
  {
   "cell_type": "code",
   "execution_count": 58,
   "metadata": {},
   "outputs": [
    {
     "name": "stdout",
     "output_type": "stream",
     "text": [
      "n\n",
      "o\n",
      "h\n",
      "t\n",
      "y\n",
      "P\n"
     ]
    }
   ],
   "source": [
    "cadena = \"Python\"\n",
    "\n",
    "for caracter in cadena[::-1]:\n",
    "    print(caracter)\n",
    "\n",
    "\n"
   ]
  },
  {
   "cell_type": "markdown",
   "metadata": {},
   "source": [
    "#### 9. Dada la lista `[1, 2, 3, 4, 5]`, multiplica todos sus elementos usando un bucle `for` y almacena los resultados en una lista nueva. \n"
   ]
  },
  {
   "cell_type": "code",
   "execution_count": 65,
   "metadata": {},
   "outputs": [
    {
     "name": "stdout",
     "output_type": "stream",
     "text": [
      "El resultado de los elementos es : 120\n"
     ]
    }
   ],
   "source": [
    "lista = [1,2,3,4,5]\n",
    "resultado = []\n",
    "\n",
    "producto = 1\n",
    "for numero in lista:\n",
    "    producto*=numero\n",
    "    resultado.append(producto)\n",
    "\n",
    "print(f\"El resultado de los elementos es : {producto}\")"
   ]
  },
  {
   "cell_type": "markdown",
   "metadata": {},
   "source": [
    "#### 10. Dada la lista `[1, 2, 3, 4, 5, 6, 7, 8, 9, 10]`, utiliza un bucle `for` para contar cuántos números son pares y cuántos son impares."
   ]
  },
  {
   "cell_type": "code",
   "execution_count": 69,
   "metadata": {},
   "outputs": [
    {
     "name": "stdout",
     "output_type": "stream",
     "text": [
      "el numero de pares es : 5\n",
      "el numero de pares es : 5\n"
     ]
    }
   ],
   "source": [
    "lista = [1,2,3,4,5,6,7,8,9,10]\n",
    "\n",
    "pares = 0\n",
    "impares = 0\n",
    "\n",
    "for numero in lista:\n",
    "    if numero % 2 == 0:\n",
    "        pares += 1\n",
    "    else:\n",
    "        impares +=1\n",
    "\n",
    "print(f\"el numero de pares es : {pares}\")\n",
    "\n",
    "print(f\"el numero de pares es : {impares}\")"
   ]
  },
  {
   "cell_type": "markdown",
   "metadata": {},
   "source": [
    "#### 11. Escribe un programa que solicite al usuario un número entero positivo (`n`) y calcule la suma de todos los números primos menores o iguales a `n`. Utiliza un bucle `for` para iterar sobre cada número y verifica si es primo."
   ]
  },
  {
   "cell_type": "code",
   "execution_count": 76,
   "metadata": {},
   "outputs": [
    {
     "name": "stdout",
     "output_type": "stream",
     "text": [
      "La suma de los números primos menores o iguales a 2 es: 2\n"
     ]
    }
   ],
   "source": [
    "def es_primo(numero):\n",
    "    if numero < 2:\n",
    "        return False\n",
    "    for i in range(2, int(numero**0.5) + 1):\n",
    "        if numero % i == 0:\n",
    "            return False\n",
    "    return True\n",
    "\n",
    "\n",
    "n = int(input(\"Ingresa un número entero positivo: \"))\n",
    "\n",
    "\n",
    "suma_primos = 0\n",
    "for num in range(2, n+1):\n",
    "    if es_primo(num):\n",
    "        suma_primos += num\n",
    "\n",
    "\n",
    "print(f\"La suma de los números primos menores o iguales a {n} es: {suma_primos}\")"
   ]
  },
  {
   "cell_type": "markdown",
   "metadata": {},
   "source": [
    "#### 12. Escribe un programa que solicite al usuario un número entero positivo (`n`) y luego imprima un patrón de asteriscos como el siguiente ejemplo para `n = 5`:\n",
    "```\n",
    "*\n",
    "**\n",
    "***\n",
    "****\n",
    "*****\n",
    "```\n",
    "Utiliza un bucle `for` anidado para controlar la cantidad de asteriscos en cada línea."
   ]
  },
  {
   "cell_type": "code",
   "execution_count": 74,
   "metadata": {},
   "outputs": [
    {
     "name": "stdout",
     "output_type": "stream",
     "text": [
      "*\n",
      "**\n",
      "***\n",
      "****\n"
     ]
    }
   ],
   "source": [
    "n = int(input(\"ingresa un numero entero positivo\"))\n",
    "for i in range(1, n+1):\n",
    " print(\"*\"*i)"
   ]
  },
  {
   "cell_type": "markdown",
   "metadata": {},
   "source": [
    "#### 13. Dado un texto, utiliza un bucle `for` para contar cuántas veces aparece cada palabra en el texto. Ignora mayúsculas/minúsculas y los signos de puntuación."
   ]
  },
  {
   "cell_type": "code",
   "execution_count": 85,
   "metadata": {},
   "outputs": [
    {
     "name": "stdout",
     "output_type": "stream",
     "text": [
      "{'hola': 2, 'mundo': 2, 'python': 2, 'es': 1, 'genial': 1}\n"
     ]
    }
   ],
   "source": [
    " \n",
    "\n",
    "texto = \"Hola, mundo. Hola mundo Python. Python es genial\"  \n",
    "\n",
    "\n",
    "texto = texto.lower()  \n",
    "for signo in string.punctuation:\n",
    "    texto = texto.replace(signo, '')  \n",
    "\n",
    "\n",
    "palabras = texto.split()\n",
    "\n",
    "\n",
    "conteo_palabras = {}\n",
    "\n",
    "\n",
    "for palabra in palabras:\n",
    "    if palabra in conteo_palabras:\n",
    "        conteo_palabras[palabra] += 1  \n",
    "    else:\n",
    "        conteo_palabras[palabra] = 1   \n",
    "\n",
    "print(conteo_palabras)\n"
   ]
  },
  {
   "cell_type": "markdown",
   "metadata": {},
   "source": [
    "#### 14. Escribe un programa que solicite al usuario dos números enteros positivos (`inicio` y `fin`, donde `inicio <= fin`) y luego calcule la suma de los números pares y la suma de los números impares en ese rango. Utiliza un bucle `for` para iterar sobre cada número y una estructura `if-else` para clasificar y sumar los números pares e impares."
   ]
  },
  {
   "cell_type": "code",
   "execution_count": 86,
   "metadata": {},
   "outputs": [
    {
     "name": "stdout",
     "output_type": "stream",
     "text": [
      "Suma de números pares: 6\n",
      "Suma de números impares: 9\n"
     ]
    }
   ],
   "source": [
    "\n",
    "inicio = int(input(\"Ingresa el número de inicio: \"))\n",
    "fin = int(input(\"Ingresa el número de fin: \"))\n",
    "\n",
    "suma_pares = 0  \n",
    "suma_impares = 0  \n",
    "\n",
    "\n",
    "for numero in range(inicio, fin + 1):\n",
    "    if numero % 2 == 0:  \n",
    "        suma_pares += numero\n",
    "    else:  \n",
    "        suma_impares += numero\n",
    "\n",
    "\n",
    "print(\"Suma de números pares:\", suma_pares)\n",
    "print(\"Suma de números impares:\", suma_impares)"
   ]
  },
  {
   "cell_type": "markdown",
   "metadata": {},
   "source": [
    "#### 15. Escribe un programa que solicite al usuario un número entero positivo (`n`) y luego identifique todos los números primos menores o iguales a `n`. Para cada número, imprime si es primo o no usando un bucle `for` y una estructura `if-else` para verificar la condición de primalidad."
   ]
  },
  {
   "cell_type": "code",
   "execution_count": 87,
   "metadata": {},
   "outputs": [
    {
     "name": "stdout",
     "output_type": "stream",
     "text": [
      "1 no es primo\n",
      "2 es primo\n",
      "3 es primo\n",
      "4 no es primo\n",
      "5 es primo\n"
     ]
    }
   ],
   "source": [
    "def es_primo(numero):\n",
    "    if numero < 2:\n",
    "        return False\n",
    "    for i in range(2, numero):\n",
    "        if numero % i == 0:\n",
    "            return False\n",
    "    return True\n",
    "\n",
    "\n",
    "n = int(input(\"Ingresa un número entero positivo: \"))\n",
    "\n",
    "\n",
    "for numero in range(1, n + 1):\n",
    "    if es_primo(numero):\n",
    "        print(numero, \"es primo\")\n",
    "    else:\n",
    "        print(numero, \"no es primo\")"
   ]
  },
  {
   "cell_type": "markdown",
   "metadata": {},
   "source": [
    "#### 16.Dada una lista de precios `[100, 200, 300, 400, 500]`, aplica un descuento del 10% a todos los precios mayores a `250`. Imprime la lista actualizada de precios después de aplicar el descuento utilizando un bucle `for`. "
   ]
  },
  {
   "cell_type": "code",
   "execution_count": 88,
   "metadata": {},
   "outputs": [
    {
     "name": "stdout",
     "output_type": "stream",
     "text": [
      "Lista de precios actualizada: [100, 200, 270.0, 360.0, 450.0]\n"
     ]
    }
   ],
   "source": [
    "\n",
    "precios = [100, 200, 300, 400, 500]\n",
    "\n",
    "\n",
    "for i in range(len(precios)):\n",
    "    if precios[i] > 250:\n",
    "        precios[i] = precios[i] * 0.90  \n",
    "\n",
    "\n",
    "print(\"Lista de precios actualizada:\", precios)"
   ]
  },
  {
   "cell_type": "markdown",
   "metadata": {},
   "source": [
    "#### 17. Dada una lista de calificaciones de estudiantes `[85, 92, 78, 90, 88]`, clasifica a cada estudiante como \"Aprobado\" si la calificación es mayor o igual a `80` y como \"Reprobado\" si es menor a `80`. Imprime el nombre de cada estudiante junto con su estado utilizando un bucle `for` y una estructura `if-else`.\n"
   ]
  },
  {
   "cell_type": "code",
   "execution_count": 92,
   "metadata": {},
   "outputs": [
    {
     "name": "stdout",
     "output_type": "stream",
     "text": [
      "Ana está Aprobado\n",
      "Luis está Aprobado\n",
      "Pedro está Reprobado\n",
      "Sofía está Aprobado\n",
      "María está Aprobado\n"
     ]
    }
   ],
   "source": [
    "calificaciones = [85, 92, 78, 90, 88]\n",
    "\n",
    "\n",
    "nombres_estudiantes = [\"Ana\", \"Luis\", \"Pedro\", \"Sofía\", \"María\"]\n",
    "\n",
    "\n",
    "for i in range(len(calificaciones)):\n",
    "    if calificaciones[i] >= 80:\n",
    "        estado = \"Aprobado\"\n",
    "    else:\n",
    "        estado = \"Reprobado\"\n",
    "    \n",
    "    \n",
    "    print(nombres_estudiantes[i], \"está\", estado)"
   ]
  },
  {
   "cell_type": "markdown",
   "metadata": {},
   "source": [
    "\n",
    "#### 18. Escribe un programa que solicite al usuario dos números enteros positivos (`inicio`, `fin`) y otro número entero positivo (`divisor`). Encuentra el número más grande en el rango desde `inicio` hasta `fin` que sea divisible por `divisor`. Utiliza un bucle `for` y una estructura `if-else` para verificar y mantener el registro del número más grande divisible por el divisor dado.\n"
   ]
  },
  {
   "cell_type": "code",
   "execution_count": 93,
   "metadata": {},
   "outputs": [
    {
     "name": "stdout",
     "output_type": "stream",
     "text": [
      "El número más grande divisible por 5 es: 100\n"
     ]
    }
   ],
   "source": [
    "inicio = int(input(\"Ingresa el número de inicio: \"))\n",
    "fin = int(input(\"Ingresa el número de fin: \"))\n",
    "divisor = int(input(\"Ingresa el divisor: \"))\n",
    "\n",
    "\n",
    "mayor_divisible = None\n",
    "\n",
    "\n",
    "for numero in range(inicio, fin + 1):\n",
    "    if numero % divisor == 0:\n",
    "       \n",
    "        mayor_divisible = numero\n",
    "\n",
    "\n",
    "if mayor_divisible is not None:\n",
    "    print(\"El número más grande divisible por\", divisor, \"es:\", mayor_divisible)\n",
    "else:\n",
    "    print(\"No hay ningún número divisible por\", divisor, \"en el rango proporcionado.\")"
   ]
  },
  {
   "cell_type": "markdown",
   "metadata": {},
   "source": []
  }
 ],
 "metadata": {
  "kernelspec": {
   "display_name": "hackio",
   "language": "python",
   "name": "python3"
  },
  "language_info": {
   "codemirror_mode": {
    "name": "ipython",
    "version": 3
   },
   "file_extension": ".py",
   "mimetype": "text/x-python",
   "name": "python",
   "nbconvert_exporter": "python",
   "pygments_lexer": "ipython3",
   "version": "3.9.6"
  }
 },
 "nbformat": 4,
 "nbformat_minor": 2
}
